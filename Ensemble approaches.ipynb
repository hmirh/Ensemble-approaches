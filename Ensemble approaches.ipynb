{
 "cells": [
  {
   "cell_type": "code",
   "execution_count": 13,
   "id": "75e95015",
   "metadata": {},
   "outputs": [],
   "source": [
    "from sklearn.datasets import load_digits\n",
    "from sklearn.ensemble import RandomForestClassifier\n",
    "from sklearn.model_selection import train_test_split\n",
    "from sklearn.preprocessing import StandardScaler\n",
    "from sklearn.metrics import classification_report, mean_squared_error, accuracy_score, r2_score\n",
    "from sklearn.ensemble import BaggingClassifier\n",
    "from sklearn.tree import DecisionTreeClassifier\n",
    "from sklearn.ensemble import AdaBoostClassifier\n",
    "from sklearn.impute import SimpleImputer\n",
    "import numpy as np\n",
    "import pandas as pd\n",
    "import time"
   ]
  },
  {
   "cell_type": "markdown",
   "id": "f3065724",
   "metadata": {},
   "source": [
    "### Load digits dataset"
   ]
  },
  {
   "cell_type": "code",
   "execution_count": 2,
   "id": "4830f49e",
   "metadata": {},
   "outputs": [
    {
     "name": "stdout",
     "output_type": "stream",
     "text": [
      "(1797, 64)\n",
      "(1797,)\n"
     ]
    }
   ],
   "source": [
    "digits = load_digits()\n",
    "xd, yd = load_digits(return_X_y=True)\n",
    "sc = StandardScaler()\n",
    "sc.fit(xd)\n",
    "xd_std = sc.transform(xd)\n",
    "xd_train, xd_test, yd_train, yd_test = train_test_split(xd_std, yd, test_size=0.3, random_state=1)\n",
    "print(np.shape(xd))\n",
    "print(np.shape(yd))"
   ]
  },
  {
   "cell_type": "code",
   "execution_count": 3,
   "id": "59fac3a3",
   "metadata": {},
   "outputs": [
    {
     "name": "stdout",
     "output_type": "stream",
     "text": [
      "(array([], dtype=int64), array([], dtype=int64))\n"
     ]
    }
   ],
   "source": [
    "print(np.where(pd.isna(xd)))"
   ]
  },
  {
   "cell_type": "markdown",
   "id": "81f74468",
   "metadata": {},
   "source": [
    "This dataset has not any missing value."
   ]
  },
  {
   "cell_type": "markdown",
   "id": "ee59e7af",
   "metadata": {},
   "source": [
    "### Random forest ensemble learning algorithm"
   ]
  },
  {
   "cell_type": "code",
   "execution_count": 70,
   "id": "741147f4",
   "metadata": {},
   "outputs": [
    {
     "name": "stdout",
     "output_type": "stream",
     "text": [
      "Running time:  0.10924100875854492 seconds \n"
     ]
    }
   ],
   "source": [
    "start_time = time.time()\n",
    "forest = RandomForestClassifier(criterion='gini', n_estimators=100, bootstrap=False,  random_state=1, n_jobs=-1)\n",
    "forest.fit(xd_train, yd_train)\n",
    "print(\"Running time:  %s seconds \" % (time.time() - start_time))\n",
    "yd_train_pred = forest.predict(xd_train)\n",
    "yd_test_pred = forest.predict(xd_test)"
   ]
  },
  {
   "cell_type": "code",
   "execution_count": 71,
   "id": "707f6640",
   "metadata": {},
   "outputs": [
    {
     "name": "stdout",
     "output_type": "stream",
     "text": [
      "MSE of train data: 0.0\n",
      "MSE of test data: 0.17407407407407408\n",
      "R2 score of train data: 1.0\n",
      "R2 score of test data: 0.9789225765945926\n",
      "Accuracy score of train data: 1.0\n",
      "Accuracy score of test data: 0.9851851851851852\n",
      "Train data:\n",
      "              precision    recall  f1-score   support\n",
      "\n",
      "           0       1.00      1.00      1.00       119\n",
      "           1       1.00      1.00      1.00       133\n",
      "           2       1.00      1.00      1.00       128\n",
      "           3       1.00      1.00      1.00       119\n",
      "           4       1.00      1.00      1.00       120\n",
      "           5       1.00      1.00      1.00       135\n",
      "           6       1.00      1.00      1.00       130\n",
      "           7       1.00      1.00      1.00       122\n",
      "           8       1.00      1.00      1.00       128\n",
      "           9       1.00      1.00      1.00       123\n",
      "\n",
      "    accuracy                           1.00      1257\n",
      "   macro avg       1.00      1.00      1.00      1257\n",
      "weighted avg       1.00      1.00      1.00      1257\n",
      "\n",
      "Test data:\n",
      "              precision    recall  f1-score   support\n",
      "\n",
      "           0       1.00      0.97      0.98        59\n",
      "           1       1.00      1.00      1.00        49\n",
      "           2       1.00      1.00      1.00        49\n",
      "           3       1.00      1.00      1.00        64\n",
      "           4       0.97      1.00      0.98        61\n",
      "           5       0.96      0.96      0.96        47\n",
      "           6       1.00      1.00      1.00        51\n",
      "           7       1.00      0.98      0.99        57\n",
      "           8       0.98      0.98      0.98        46\n",
      "           9       0.95      0.96      0.96        57\n",
      "\n",
      "    accuracy                           0.99       540\n",
      "   macro avg       0.99      0.98      0.99       540\n",
      "weighted avg       0.99      0.99      0.99       540\n",
      "\n"
     ]
    }
   ],
   "source": [
    "print('MSE of train data: %s' % (mean_squared_error(yd_train, yd_train_pred)))\n",
    "print('MSE of test data: %s' % (mean_squared_error(yd_test, yd_test_pred)))\n",
    "print('R2 score of train data: %s' % (r2_score(yd_train, yd_train_pred)))\n",
    "print('R2 score of test data: %s' %  (r2_score(yd_test, yd_test_pred)))\n",
    "print('Accuracy score of train data: %s' %  (accuracy_score(yd_train, yd_train_pred)))\n",
    "print('Accuracy score of test data: %s' %  (accuracy_score(yd_test, yd_test_pred)))\n",
    "print('Train data:')\n",
    "print(classification_report(yd_train, yd_train_pred))\n",
    "print('Test data:')\n",
    "print(classification_report(yd_test, yd_test_pred))"
   ]
  },
  {
   "cell_type": "markdown",
   "id": "850e8abc",
   "metadata": {},
   "source": [
    "### Bagging ensemble learning algorithm"
   ]
  },
  {
   "cell_type": "code",
   "execution_count": 105,
   "id": "14da938f",
   "metadata": {},
   "outputs": [
    {
     "name": "stdout",
     "output_type": "stream",
     "text": [
      "Running time:  0.4757039546966553 seconds \n"
     ]
    }
   ],
   "source": [
    "start_time = time.time()\n",
    "model = DecisionTreeClassifier(criterion='entropy', max_depth=None, random_state=1)\n",
    "bagging = BaggingClassifier(base_estimator=model, n_estimators=200, max_samples=1.0, max_features=1.0, bootstrap=True, bootstrap_features=True, n_jobs=-1, random_state=1)\n",
    "bagging.fit(xd_train, yd_train)\n",
    "print(\"Running time:  %s seconds \" % (time.time() - start_time))\n",
    "yd_train_pred = bagging.predict(xd_train)\n",
    "yd_test_pred = bagging.predict(xd_test)"
   ]
  },
  {
   "cell_type": "code",
   "execution_count": 106,
   "id": "f44f4771",
   "metadata": {},
   "outputs": [
    {
     "name": "stdout",
     "output_type": "stream",
     "text": [
      "MSE of train data: 0.0\n",
      "MSE of test data: 0.37407407407407406\n",
      "R2 score of train data: 1.0\n",
      "R2 score of test data: 0.9547059624692309\n",
      "Accuracy score of train data: 1.0\n",
      "Accuracy score of test data: 0.9666666666666667\n",
      "Train data:\n",
      "              precision    recall  f1-score   support\n",
      "\n",
      "           0       1.00      1.00      1.00       119\n",
      "           1       1.00      1.00      1.00       133\n",
      "           2       1.00      1.00      1.00       128\n",
      "           3       1.00      1.00      1.00       119\n",
      "           4       1.00      1.00      1.00       120\n",
      "           5       1.00      1.00      1.00       135\n",
      "           6       1.00      1.00      1.00       130\n",
      "           7       1.00      1.00      1.00       122\n",
      "           8       1.00      1.00      1.00       128\n",
      "           9       1.00      1.00      1.00       123\n",
      "\n",
      "    accuracy                           1.00      1257\n",
      "   macro avg       1.00      1.00      1.00      1257\n",
      "weighted avg       1.00      1.00      1.00      1257\n",
      "\n",
      "Test data:\n",
      "              precision    recall  f1-score   support\n",
      "\n",
      "           0       1.00      0.95      0.97        59\n",
      "           1       0.96      0.98      0.97        49\n",
      "           2       1.00      1.00      1.00        49\n",
      "           3       1.00      0.94      0.97        64\n",
      "           4       0.95      0.97      0.96        61\n",
      "           5       0.88      0.96      0.92        47\n",
      "           6       1.00      1.00      1.00        51\n",
      "           7       0.97      0.98      0.97        57\n",
      "           8       0.98      0.93      0.96        46\n",
      "           9       0.93      0.96      0.95        57\n",
      "\n",
      "    accuracy                           0.97       540\n",
      "   macro avg       0.97      0.97      0.97       540\n",
      "weighted avg       0.97      0.97      0.97       540\n",
      "\n"
     ]
    }
   ],
   "source": [
    "print('MSE of train data: %s' % (mean_squared_error(yd_train, yd_train_pred)))\n",
    "print('MSE of test data: %s' % (mean_squared_error(yd_test, yd_test_pred)))\n",
    "print('R2 score of train data: %s' % (r2_score(yd_train, yd_train_pred)))\n",
    "print('R2 score of test data: %s' %  (r2_score(yd_test, yd_test_pred)))\n",
    "print('Accuracy score of train data: %s' %  (accuracy_score(yd_train, yd_train_pred)))\n",
    "print('Accuracy score of test data: %s' %  (accuracy_score(yd_test, yd_test_pred)))\n",
    "print('Train data:')\n",
    "print(classification_report(yd_train, yd_train_pred))\n",
    "print('Test data:')\n",
    "print(classification_report(yd_test, yd_test_pred))"
   ]
  },
  {
   "cell_type": "markdown",
   "id": "8febf1e3",
   "metadata": {},
   "source": [
    "### AdaBoost ensemble learning algorithm"
   ]
  },
  {
   "cell_type": "code",
   "execution_count": 111,
   "id": "51dd6503",
   "metadata": {},
   "outputs": [
    {
     "name": "stdout",
     "output_type": "stream",
     "text": [
      "Running time:  2.8625757694244385 seconds \n"
     ]
    }
   ],
   "source": [
    "start_time = time.time()\n",
    "model = DecisionTreeClassifier(criterion='entropy', max_depth=5, random_state=1)\n",
    "adaboost = AdaBoostClassifier(base_estimator=model, n_estimators=300, learning_rate=0.01, random_state=1)\n",
    "adaboost.fit(xd_train, yd_train)\n",
    "print(\"Running time:  %s seconds \" % (time.time() - start_time))\n",
    "yd_train_pred = adaboost.predict(xd_train)\n",
    "yd_test_pred = adaboost.predict(xd_test)"
   ]
  },
  {
   "cell_type": "code",
   "execution_count": 112,
   "id": "1336c268",
   "metadata": {},
   "outputs": [
    {
     "name": "stdout",
     "output_type": "stream",
     "text": [
      "MSE of train data: 0.0\n",
      "MSE of test data: 1.0037037037037038\n",
      "R2 score of train data: 1.0\n",
      "R2 score of test data: 0.8784684735560553\n",
      "Accuracy score of train data: 1.0\n",
      "Accuracy score of test data: 0.95\n",
      "Train data:\n",
      "              precision    recall  f1-score   support\n",
      "\n",
      "           0       1.00      1.00      1.00       119\n",
      "           1       1.00      1.00      1.00       133\n",
      "           2       1.00      1.00      1.00       128\n",
      "           3       1.00      1.00      1.00       119\n",
      "           4       1.00      1.00      1.00       120\n",
      "           5       1.00      1.00      1.00       135\n",
      "           6       1.00      1.00      1.00       130\n",
      "           7       1.00      1.00      1.00       122\n",
      "           8       1.00      1.00      1.00       128\n",
      "           9       1.00      1.00      1.00       123\n",
      "\n",
      "    accuracy                           1.00      1257\n",
      "   macro avg       1.00      1.00      1.00      1257\n",
      "weighted avg       1.00      1.00      1.00      1257\n",
      "\n",
      "Test data:\n",
      "              precision    recall  f1-score   support\n",
      "\n",
      "           0       1.00      0.95      0.97        59\n",
      "           1       0.96      0.92      0.94        49\n",
      "           2       0.94      1.00      0.97        49\n",
      "           3       0.98      0.89      0.93        64\n",
      "           4       0.97      1.00      0.98        61\n",
      "           5       0.85      0.98      0.91        47\n",
      "           6       0.98      1.00      0.99        51\n",
      "           7       0.98      0.98      0.98        57\n",
      "           8       0.93      0.87      0.90        46\n",
      "           9       0.90      0.91      0.90        57\n",
      "\n",
      "    accuracy                           0.95       540\n",
      "   macro avg       0.95      0.95      0.95       540\n",
      "weighted avg       0.95      0.95      0.95       540\n",
      "\n"
     ]
    }
   ],
   "source": [
    "print('MSE of train data: %s' % (mean_squared_error(yd_train, yd_train_pred)))\n",
    "print('MSE of test data: %s' % (mean_squared_error(yd_test, yd_test_pred)))\n",
    "print('R2 score of train data: %s' % (r2_score(yd_train, yd_train_pred)))\n",
    "print('R2 score of test data: %s' %  (r2_score(yd_test, yd_test_pred)))\n",
    "print('Accuracy score of train data: %s' %  (accuracy_score(yd_train, yd_train_pred)))\n",
    "print('Accuracy score of test data: %s' %  (accuracy_score(yd_test, yd_test_pred)))\n",
    "print('Train data:')\n",
    "print(classification_report(yd_train, yd_train_pred))\n",
    "print('Test data:')\n",
    "print(classification_report(yd_test, yd_test_pred))"
   ]
  },
  {
   "cell_type": "markdown",
   "id": "13c3c857",
   "metadata": {},
   "source": [
    "### Load Mammographic Mass Data Set"
   ]
  },
  {
   "cell_type": "code",
   "execution_count": 10,
   "id": "7e96f3de",
   "metadata": {},
   "outputs": [
    {
     "name": "stdout",
     "output_type": "stream",
     "text": [
      "(961, 6)\n"
     ]
    }
   ],
   "source": [
    "url = \"https://archive.ics.uci.edu/ml/machine-learning-databases/mammographic-masses/mammographic_masses.data\"\n",
    "mam_data = pd.read_csv(url, header=None)\n",
    "print(np.shape(mam_data))"
   ]
  },
  {
   "cell_type": "markdown",
   "id": "aacf3aaa",
   "metadata": {},
   "source": [
    "### Handle the missing values of a dataset"
   ]
  },
  {
   "cell_type": "code",
   "execution_count": 11,
   "id": "615e3675",
   "metadata": {},
   "outputs": [
    {
     "data": {
      "text/plain": [
       "0     2\n",
       "1     5\n",
       "2    31\n",
       "3    48\n",
       "4    76\n",
       "5     0\n",
       "dtype: int64"
      ]
     },
     "execution_count": 11,
     "metadata": {},
     "output_type": "execute_result"
    }
   ],
   "source": [
    "# Repalce the missing value with np.nan to become distinguishabe\n",
    "mam_data1 = mam_data.replace(to_replace = \"?\", value = np.nan)\n",
    "# Counting the missing values of data\n",
    "mam_data1.isnull().sum()"
   ]
  },
  {
   "cell_type": "code",
   "execution_count": 14,
   "id": "b98dec76",
   "metadata": {},
   "outputs": [],
   "source": [
    "# Replace the missing value of data by calculating the median value along each column\n",
    "m = SimpleImputer(missing_values=np.nan, strategy='median')\n",
    "mm = m.fit(mam_data1)    \n",
    "mam_data_n = mm.transform(mam_data1)"
   ]
  },
  {
   "cell_type": "code",
   "execution_count": 15,
   "id": "636fa01c",
   "metadata": {},
   "outputs": [
    {
     "name": "stdout",
     "output_type": "stream",
     "text": [
      "(961, 5)\n",
      "(961,)\n"
     ]
    }
   ],
   "source": [
    "xm = mam_data_n[:, 0:-1]\n",
    "ym = mam_data_n[:, -1]\n",
    "sc = StandardScaler()\n",
    "sc.fit(xm)\n",
    "xm_std = sc.transform(xm)\n",
    "xm_train, xm_test, ym_train, ym_test = train_test_split(xm_std, ym, test_size=0.3, random_state=1)\n",
    "print(np.shape(xm))\n",
    "print(np.shape(ym))"
   ]
  },
  {
   "cell_type": "markdown",
   "id": "29d0a69e",
   "metadata": {},
   "source": [
    "### Random forest ensemble learning algorithm"
   ]
  },
  {
   "cell_type": "code",
   "execution_count": 119,
   "id": "e97f78c7",
   "metadata": {},
   "outputs": [
    {
     "name": "stdout",
     "output_type": "stream",
     "text": [
      "Running time:  0.16777610778808594 seconds \n"
     ]
    }
   ],
   "source": [
    "start_time = time.time()\n",
    "forest = RandomForestClassifier(criterion='gini', n_estimators=200, bootstrap=False,  random_state=1, n_jobs=-1)\n",
    "forest.fit(xm_train, ym_train)\n",
    "print(\"Running time:  %s seconds \" % (time.time() - start_time))\n",
    "ym_train_pred = forest.predict(xm_train)\n",
    "ym_test_pred = forest.predict(xm_test)"
   ]
  },
  {
   "cell_type": "code",
   "execution_count": 120,
   "id": "4b1fb69c",
   "metadata": {},
   "outputs": [
    {
     "name": "stdout",
     "output_type": "stream",
     "text": [
      "MSE of train data: 0.05357142857142857\n",
      "MSE of test data: 0.24567474048442905\n",
      "R2 score of train data: 0.784521381300603\n",
      "R2 score of test data: 0.012084737602310991\n",
      "Accuracy score of train data: 0.9464285714285714\n",
      "Accuracy score of test data: 0.754325259515571\n",
      "Train data:\n",
      "              precision    recall  f1-score   support\n",
      "\n",
      "         0.0       0.93      0.97      0.95       361\n",
      "         1.0       0.96      0.92      0.94       311\n",
      "\n",
      "    accuracy                           0.95       672\n",
      "   macro avg       0.95      0.94      0.95       672\n",
      "weighted avg       0.95      0.95      0.95       672\n",
      "\n",
      "Test data:\n",
      "              precision    recall  f1-score   support\n",
      "\n",
      "         0.0       0.75      0.81      0.78       155\n",
      "         1.0       0.76      0.69      0.72       134\n",
      "\n",
      "    accuracy                           0.75       289\n",
      "   macro avg       0.75      0.75      0.75       289\n",
      "weighted avg       0.75      0.75      0.75       289\n",
      "\n"
     ]
    }
   ],
   "source": [
    "print('MSE of train data: %s' % (mean_squared_error(ym_train, ym_train_pred)))\n",
    "print('MSE of test data: %s' % (mean_squared_error(ym_test, ym_test_pred)))\n",
    "print('R2 score of train data: %s' % (r2_score(ym_train, ym_train_pred)))\n",
    "print('R2 score of test data: %s' %  (r2_score(ym_test, ym_test_pred)))\n",
    "print('Accuracy score of train data: %s' %  (accuracy_score(ym_train, ym_train_pred)))\n",
    "print('Accuracy score of test data: %s' %  (accuracy_score(ym_test, ym_test_pred)))\n",
    "print('Train data:')\n",
    "print(classification_report(ym_train, ym_train_pred))\n",
    "print('Test data:')\n",
    "print(classification_report(ym_test, ym_test_pred))"
   ]
  },
  {
   "cell_type": "markdown",
   "id": "ca631596",
   "metadata": {},
   "source": [
    "### Bagging ensemble learning algorithm"
   ]
  },
  {
   "cell_type": "code",
   "execution_count": 127,
   "id": "2b574b95",
   "metadata": {},
   "outputs": [
    {
     "name": "stdout",
     "output_type": "stream",
     "text": [
      "Running time:  0.08121323585510254 seconds \n"
     ]
    }
   ],
   "source": [
    "start_time = time.time()\n",
    "model = DecisionTreeClassifier(criterion='entropy', max_depth=None, random_state=1)\n",
    "bagging = BaggingClassifier(base_estimator=model, n_estimators=200, max_samples=1.0, max_features=1.0, bootstrap=True, bootstrap_features=True, n_jobs=-1, random_state=1)\n",
    "bagging.fit(xm_train, ym_train)\n",
    "print(\"Running time:  %s seconds \" % (time.time() - start_time))\n",
    "ym_train_pred = bagging.predict(xm_train)\n",
    "ym_test_pred = bagging.predict(xm_test)"
   ]
  },
  {
   "cell_type": "code",
   "execution_count": 128,
   "id": "c3e20583",
   "metadata": {},
   "outputs": [
    {
     "name": "stdout",
     "output_type": "stream",
     "text": [
      "MSE of train data: 0.07589285714285714\n",
      "MSE of test data: 0.18685121107266436\n",
      "R2 score of train data: 0.6947386235091875\n",
      "R2 score of test data: 0.24862782859894073\n",
      "Accuracy score of train data: 0.9241071428571429\n",
      "Accuracy score of test data: 0.8131487889273357\n",
      "Train data:\n",
      "              precision    recall  f1-score   support\n",
      "\n",
      "         0.0       0.94      0.92      0.93       361\n",
      "         1.0       0.91      0.93      0.92       311\n",
      "\n",
      "    accuracy                           0.92       672\n",
      "   macro avg       0.92      0.92      0.92       672\n",
      "weighted avg       0.92      0.92      0.92       672\n",
      "\n",
      "Test data:\n",
      "              precision    recall  f1-score   support\n",
      "\n",
      "         0.0       0.82      0.83      0.83       155\n",
      "         1.0       0.80      0.79      0.80       134\n",
      "\n",
      "    accuracy                           0.81       289\n",
      "   macro avg       0.81      0.81      0.81       289\n",
      "weighted avg       0.81      0.81      0.81       289\n",
      "\n"
     ]
    }
   ],
   "source": [
    "print('MSE of train data: %s' % (mean_squared_error(ym_train, ym_train_pred)))\n",
    "print('MSE of test data: %s' % (mean_squared_error(ym_test, ym_test_pred)))\n",
    "print('R2 score of train data: %s' % (r2_score(ym_train, ym_train_pred)))\n",
    "print('R2 score of test data: %s' %  (r2_score(ym_test, ym_test_pred)))\n",
    "print('Accuracy score of train data: %s' %  (accuracy_score(ym_train, ym_train_pred)))\n",
    "print('Accuracy score of test data: %s' %  (accuracy_score(ym_test, ym_test_pred)))\n",
    "print('Train data:')\n",
    "print(classification_report(ym_train, ym_train_pred))\n",
    "print('Test data:')\n",
    "print(classification_report(ym_test, ym_test_pred))"
   ]
  },
  {
   "cell_type": "markdown",
   "id": "d1103fb6",
   "metadata": {},
   "source": [
    "### AdaBoost ensemble learning algorithm"
   ]
  },
  {
   "cell_type": "code",
   "execution_count": 133,
   "id": "68a995c1",
   "metadata": {},
   "outputs": [
    {
     "name": "stdout",
     "output_type": "stream",
     "text": [
      "Running time:  0.016350269317626953 seconds \n"
     ]
    }
   ],
   "source": [
    "start_time = time.time()\n",
    "model = DecisionTreeClassifier(criterion='entropy', max_depth=None, random_state=1)\n",
    "adaboost = AdaBoostClassifier(base_estimator=model, n_estimators=100, learning_rate=0.1, random_state=1)\n",
    "adaboost.fit(xd_train, yd_train)\n",
    "print(\"Running time:  %s seconds \" % (time.time() - start_time))\n",
    "yd_train_pred = adaboost.predict(xd_train)\n",
    "yd_test_pred = adaboost.predict(xd_test)"
   ]
  },
  {
   "cell_type": "code",
   "execution_count": 134,
   "id": "10ea5297",
   "metadata": {},
   "outputs": [
    {
     "name": "stdout",
     "output_type": "stream",
     "text": [
      "MSE of train data: 0.07589285714285714\n",
      "MSE of test data: 0.18685121107266436\n",
      "R2 score of train data: 0.6947386235091875\n",
      "R2 score of test data: 0.24862782859894073\n",
      "Accuracy score of train data: 0.9241071428571429\n",
      "Accuracy score of test data: 0.8131487889273357\n",
      "Train data:\n",
      "              precision    recall  f1-score   support\n",
      "\n",
      "         0.0       0.94      0.92      0.93       361\n",
      "         1.0       0.91      0.93      0.92       311\n",
      "\n",
      "    accuracy                           0.92       672\n",
      "   macro avg       0.92      0.92      0.92       672\n",
      "weighted avg       0.92      0.92      0.92       672\n",
      "\n",
      "Test data:\n",
      "              precision    recall  f1-score   support\n",
      "\n",
      "         0.0       0.82      0.83      0.83       155\n",
      "         1.0       0.80      0.79      0.80       134\n",
      "\n",
      "    accuracy                           0.81       289\n",
      "   macro avg       0.81      0.81      0.81       289\n",
      "weighted avg       0.81      0.81      0.81       289\n",
      "\n"
     ]
    }
   ],
   "source": [
    "print('MSE of train data: %s' % (mean_squared_error(ym_train, ym_train_pred)))\n",
    "print('MSE of test data: %s' % (mean_squared_error(ym_test, ym_test_pred)))\n",
    "print('R2 score of train data: %s' % (r2_score(ym_train, ym_train_pred)))\n",
    "print('R2 score of test data: %s' %  (r2_score(ym_test, ym_test_pred)))\n",
    "print('Accuracy score of train data: %s' %  (accuracy_score(ym_train, ym_train_pred)))\n",
    "print('Accuracy score of test data: %s' %  (accuracy_score(ym_test, ym_test_pred)))\n",
    "print('Train data:')\n",
    "print(classification_report(ym_train, ym_train_pred))\n",
    "print('Test data:')\n",
    "print(classification_report(ym_test, ym_test_pred))"
   ]
  },
  {
   "cell_type": "code",
   "execution_count": null,
   "id": "addfff4d",
   "metadata": {},
   "outputs": [],
   "source": []
  }
 ],
 "metadata": {
  "kernelspec": {
   "display_name": "Python 3 (ipykernel)",
   "language": "python",
   "name": "python3"
  },
  "language_info": {
   "codemirror_mode": {
    "name": "ipython",
    "version": 3
   },
   "file_extension": ".py",
   "mimetype": "text/x-python",
   "name": "python",
   "nbconvert_exporter": "python",
   "pygments_lexer": "ipython3",
   "version": "3.9.7"
  }
 },
 "nbformat": 4,
 "nbformat_minor": 5
}
